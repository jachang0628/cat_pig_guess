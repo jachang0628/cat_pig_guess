{
 "cells": [
  {
   "cell_type": "code",
   "execution_count": 1,
   "id": "latin-iraqi",
   "metadata": {},
   "outputs": [],
   "source": [
    "# import modules and utilize GPU is available\n",
    "import json\n",
    "import numpy as np\n",
    "import pandas as pd\n",
    "from collections import OrderedDict\n",
    "import torch\n",
    "import torchvision\n",
    "from torch import nn, optim\n",
    "from torchvision import transforms, models, datasets\n",
    "from torchsummary import summary\n",
    "from IPython.display import Image\n",
    "import matplotlib.pyplot as plt\n",
    "import random\n",
    "from torch.utils.data import Dataset\n",
    "from PIL import Image\n",
    "import PIL.ImageOps\n",
    "from src.custom_dataset import catdataset\n",
    "from src.nn_trainer import trainer\n",
    "import os.path\n",
    "device = torch.device('cuda' if torch.cuda.is_available() else 'cpu')\n",
    "%matplotlib inline"
   ]
  },
  {
   "cell_type": "code",
   "execution_count": 4,
   "id": "victorian-semiconductor",
   "metadata": {},
   "outputs": [],
   "source": [
    "# initialize densenet\n",
    "classes = ['cat', 'pig']\n",
    "densenet = models.densenet121(pretrained=True)\n",
    "# define extra layer for densenet\n",
    "extra_layer = nn.Sequential(OrderedDict([('layer1', nn.Linear(1024, 500)),\n",
    "                                         ('relu1', nn.ReLU()),\n",
    "                                         ('layer2', nn.Linear(500, 1))]))\n",
    "densenet.classifier = extra_layer\n",
    "densenet.to(device)\n",
    "# check if model is trained already, if yes then load the model and if not train the model\n",
    "if os.path.exists('saved_model/full_trained.pt'):\n",
    "    densenet.load_state_dict(torch.load('saved_model/full_trained.pt', map_location = device))\n",
    "    densenet.eval()\n",
    "else:\n",
    "    # load dataset\n",
    "    dataset = catdataset(transform = transforms.Compose([transforms.ToPILImage(),transforms.Resize((64,64)),\n",
    "                                       transforms.ToTensor()]) )\n",
    "    # split dataset into training and test set\n",
    "    train_set, test_set = torch.utils.data.random_split(dataset, [int(dataset.length*0.8),\n",
    "                                                              dataset.length - int(dataset.length*0.8)])\n",
    "    # create data loader\n",
    "    train_loader = torch.utils.data.DataLoader(dataset = train_set, batch_size = 256, shuffle = True)\n",
    "    test_loader = torch.utils.data.DataLoader(dataset = test_set, batch_size = 256, shuffle = True)\n",
    "    criterion = torch.nn.BCEWithLogitsLoss()\n",
    "    optimizer = optim.Adam(densenet.parameters())\n",
    "    results = trainer(densenet, criterion, optimizer, train_loader, test_loader, epochs = 10)\n",
    "    densenet.eval()\n",
    "    torch.save(densenet.state_dict(), 'saved_model/')"
   ]
  },
  {
   "cell_type": "code",
   "execution_count": 61,
   "id": "sized-continuity",
   "metadata": {},
   "outputs": [
    {
     "data": {
      "image/png": "[encoded data removed]",
      "text/plain": [
       "<Figure size 432x288 with 1 Axes>"
      ]
     },
     "metadata": {
      "needs_background": "light"
     },
     "output_type": "display_data"
    }
   ],
   "source": [
    "# Show an example\n",
    "X, y = next(iter(train_loader))\n",
    "plt.imshow(X[1, 0, :, :], cmap=\"gray\")\n",
    "plt.title(f\"Class: {classes[y[1].item()]}\");"
   ]
  },
  {
   "cell_type": "code",
   "execution_count": 5,
   "id": "accurate-server",
   "metadata": {},
   "outputs": [
    {
     "name": "stdout",
     "output_type": "stream",
     "text": [
      "pig\n",
      "The prediction is pig with probability of 0.9764650464057922\n"
     ]
    }
   ],
   "source": [
    "im_frame = Image.open('pauline2.png').convert('RGB')\n",
    "# invert image\n",
    "im_frame = PIL.ImageOps.invert(im_frame)\n",
    "im_frame = transforms.Resize((64,64))(im_frame)\n",
    "im_frame = transforms.ToTensor()(im_frame)\n",
    "pauline2 = im_frame.unsqueeze(0).to(device)\n",
    "prediction = int(torch.sigmoid(densenet(pauline2)) > 0.5)\n",
    "print(classes[prediction])\n",
    "print(f\"The prediction is {classes[prediction]} with probability of {float(torch.sigmoid(densenet(pauline2))) if classes[prediction] is 'pig' else float(1-torch.sigmoid(densenet(pauline2)))}\")"
   ]
  },
  {
   "cell_type": "code",
   "execution_count": null,
   "id": "floppy-cherry",
   "metadata": {},
   "outputs": [],
   "source": []
  }
 ],
 "metadata": {
  "kernelspec": {
   "display_name": "Python [conda env:mds572]",
   "language": "python",
   "name": "conda-env-mds572-py"
  },
  "language_info": {
   "codemirror_mode": {
    "name": "ipython",
    "version": 3
   },
   "file_extension": ".py",
   "mimetype": "text/x-python",
   "name": "python",
   "nbconvert_exporter": "python",
   "pygments_lexer": "ipython3",
   "version": "3.7.10"
  }
 },
 "nbformat": 4,
 "nbformat_minor": 5
}
